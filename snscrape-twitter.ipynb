{
 "cells": [
  {
   "cell_type": "code",
   "execution_count": null,
   "id": "920c599e",
   "metadata": {},
   "outputs": [],
   "source": [
    "#Import the required libraries\n",
    "\n",
    "import snscrape.modules.twitter as sntwitter\n",
    "import pandas as pd\n",
    "\n",
    "tweets_list = []\n",
    "\n",
    "for i,tweet in enumerate(sntwitter.TwitterSearchScraper('NAME').get_items()): #Replace NAME value\n",
    "    if i>(NUMBER): #Replace NUMBER value MAX=31999\n",
    "        break\n",
    "    tweets_list.append([tweet.date, tweet.id, tweet.content, tweet.user.username, tweet.replyCount, tweet.retweetCount, tweet.likeCount, tweet.quoteCount, tweet.conversationId, tweet.retweetedTweet, tweet.quotedTweet])\n",
    "    \n",
    "tweets_df = pd.DataFrame(tweets_list, columns=['Datetime','Tweet Id', 'Text', 'Username', 'replyCount', 'retweetCount', 'likeCount', 'quoteCount', 'conversationId', 'retweetedTweet', 'quotedTweet'])\n",
    "\n",
    "tweets_df"
   ]
  }
 ],
 "metadata": {
  "kernelspec": {
   "display_name": "Python 3 (ipykernel)",
   "language": "python",
   "name": "python3"
  },
  "language_info": {
   "codemirror_mode": {
    "name": "ipython",
    "version": 3
   },
   "file_extension": ".py",
   "mimetype": "text/x-python",
   "name": "python",
   "nbconvert_exporter": "python",
   "pygments_lexer": "ipython3",
   "version": "3.9.12"
  }
 },
 "nbformat": 4,
 "nbformat_minor": 5
}
