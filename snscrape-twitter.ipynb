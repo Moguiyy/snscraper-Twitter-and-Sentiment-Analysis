import snscrape.modules.twitter as sntwitter
import pandas as pd

tweets_list1 = []

for i,tweet in enumerate(sntwitter.TwitterSearchScraper('NAME').get_items()):
    if i>(NUMBER):
        break
    tweets_list1.append([tweet.date, tweet.id, tweet.content, tweet.user.username, tweet.replyCount, tweet.retweetCount, tweet.likeCount, tweet.quoteCount, tweet.conversationId, tweet.retweetedTweet, tweet.quotedTweet])
    
tweets_df = pd.DataFrame(tweets_list1, columns=['Datetime','Tweet Id', 'Text', 'Username', 'replyCount', 'retweetCount', 'likeCount', 'quoteCount', 'conversationId', 'retweetedTweet', 'quotedTweet'])

tweets_df
